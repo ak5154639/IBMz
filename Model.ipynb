{
 "cells": [
  {
   "cell_type": "code",
   "execution_count": 1,
   "id": "ccedb1a8-4ead-45a7-88d3-130608739905",
   "metadata": {},
   "outputs": [],
   "source": [
    "import pandas as pd\n",
    "from sklearn.metrics import mean_absolute_error\n",
    "from sklearn.model_selection import train_test_split\n",
    "from sklearn.tree import DecisionTreeRegressor\n"
   ]
  },
  {
   "cell_type": "code",
   "execution_count": 2,
   "id": "05cee879-6fa5-4b77-9a8d-fe3e3e3ccd6c",
   "metadata": {},
   "outputs": [],
   "source": [
    "TrainingData = pd.read_csv(\"./Training.csv\")"
   ]
  },
  {
   "cell_type": "code",
   "execution_count": 18,
   "id": "85af9f41-76f5-4aaf-b4b4-721e915d37a4",
   "metadata": {},
   "outputs": [],
   "source": [
    "features = list(TrainingData.columns[:-2])\n",
    "X = TrainingData[features]\n",
    "y = TrainingData.prognosis"
   ]
  },
  {
   "cell_type": "code",
   "execution_count": 22,
   "id": "eb659793-e761-4a06-82e4-2f8d653bcbfd",
   "metadata": {},
   "outputs": [
    {
     "data": {
      "text/plain": [
       "41"
      ]
     },
     "execution_count": 22,
     "metadata": {},
     "output_type": "execute_result"
    }
   ],
   "source": [
    "len(TrainingData.prognosis.unique())"
   ]
  }
 ],
 "metadata": {
  "kernelspec": {
   "display_name": "Python 3 (ipykernel)",
   "language": "python",
   "name": "python3"
  },
  "language_info": {
   "codemirror_mode": {
    "name": "ipython",
    "version": 3
   },
   "file_extension": ".py",
   "mimetype": "text/x-python",
   "name": "python",
   "nbconvert_exporter": "python",
   "pygments_lexer": "ipython3",
   "version": "3.10.6"
  }
 },
 "nbformat": 4,
 "nbformat_minor": 5
}
